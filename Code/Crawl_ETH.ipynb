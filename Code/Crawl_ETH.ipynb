{
  "cells": [
    {
      "cell_type": "code",
      "execution_count": 1,
      "metadata": {
        "colab": {
          "base_uri": "https://localhost:8080/"
        },
        "id": "bLG9OJ55FZxR",
        "outputId": "c0411a11-b5f1-4f5f-e41a-17816bc29270"
      },
      "outputs": [
        {
          "name": "stdout",
          "output_type": "stream",
          "text": [
            "Looking in indexes: https://pypi.org/simple, https://us-python.pkg.dev/colab-wheels/public/simple/\n",
            "Collecting GoogleNews\n",
            "  Downloading GoogleNews-1.6.2-py3-none-any.whl (7.9 kB)\n",
            "Requirement already satisfied: python-dateutil in /usr/local/lib/python3.7/dist-packages (from GoogleNews) (2.8.2)\n",
            "Collecting dateparser\n",
            "  Downloading dateparser-1.1.1-py2.py3-none-any.whl (288 kB)\n",
            "\u001b[K     |████████████████████████████████| 288 kB 16.7 MB/s \n",
            "\u001b[?25hRequirement already satisfied: beautifulsoup4 in /usr/local/lib/python3.7/dist-packages (from GoogleNews) (4.6.3)\n",
            "Requirement already satisfied: pytz in /usr/local/lib/python3.7/dist-packages (from dateparser->GoogleNews) (2022.1)\n",
            "Requirement already satisfied: tzlocal in /usr/local/lib/python3.7/dist-packages (from dateparser->GoogleNews) (1.5.1)\n",
            "Requirement already satisfied: regex!=2019.02.19,!=2021.8.27,<2022.3.15 in /usr/local/lib/python3.7/dist-packages (from dateparser->GoogleNews) (2019.12.20)\n",
            "Requirement already satisfied: six>=1.5 in /usr/local/lib/python3.7/dist-packages (from python-dateutil->GoogleNews) (1.15.0)\n",
            "Installing collected packages: dateparser, GoogleNews\n",
            "Successfully installed GoogleNews-1.6.2 dateparser-1.1.1\n"
          ]
        }
      ],
      "source": [
        "# pip install GoogleNews"
      ]
    },
    {
      "cell_type": "markdown",
      "metadata": {
        "id": "YN20gUDkXf-5"
      },
      "source": []
    },
    {
      "cell_type": "code",
      "execution_count": 2,
      "metadata": {
        "id": "WPRJfNCaFZxV"
      },
      "outputs": [],
      "source": [
        "from GoogleNews import GoogleNews\n",
        "import pandas as pd\n",
        "from datetime import datetime"
      ]
    },
    {
      "cell_type": "code",
      "execution_count": 7,
      "metadata": {
        "id": "OZ-z_7FlXXxK"
      },
      "outputs": [],
      "source": [
        "# googlenews.clear()"
      ]
    },
    {
      "cell_type": "code",
      "execution_count": 8,
      "metadata": {
        "id": "sd6YH0MNWLLa"
      },
      "outputs": [],
      "source": [
        "# business_day = pd.date_range(start='01/01/2017', end='12/31/2017')\n",
        "# business_day = pd.date_range(start='01/01/2018', end='12/31/2018')\n",
        "# business_day = pd.date_range(start='01/01/2019', end='12/31/2019')\n",
        "# business_day = pd.date_range(start='01/01/2020', end='12/31/2020')\n",
        "# business_day = pd.date_range(start='01/01/2021', end='12/31/2021')\n",
        "business_day = pd.date_range(start='01/01/2022', end='05/29/2022')\n",
        "\n",
        "list_business_day = []\n",
        "for i in business_day:\n",
        "    list_business_day.append(i.strftime(\"%m/%d/%Y\"))\n"
      ]
    },
    {
      "cell_type": "code",
      "execution_count": 11,
      "metadata": {
        "id": "mKdG_lBVWEtp"
      },
      "outputs": [],
      "source": [
        "# Initialize a loop to crawl data by days/months/years\n",
        "data = pd.DataFrame([])\n",
        "for i in range(0,len(list_business_day)-1,2):\n",
        "    googlenews = GoogleNews(lang='en',encode='utf-8',start=list_business_day[i],end=list_business_day[i+1])\n",
        "    googlenews.search('Ethereum')\n",
        "    crawl_results = googlenews.results()\n",
        "    df = pd.DataFrame(crawl_results)\n",
        "    data = pd.concat([data,df])"
      ]
    },
    {
      "cell_type": "code",
      "execution_count": 5,
      "metadata": {
        "colab": {
          "base_uri": "https://localhost:8080/"
        },
        "id": "MmAAXZS9eweL",
        "outputId": "fd52a003-839c-478c-d84e-9f20f293ca1b"
      },
      "outputs": [
        {
          "data": {
            "text/plain": [
              "0"
            ]
          },
          "execution_count": 5,
          "metadata": {},
          "output_type": "execute_result"
        }
      ],
      "source": [
        "len(data[data.datetime.isna()])"
      ]
    },
    {
      "cell_type": "code",
      "execution_count": 15,
      "metadata": {
        "colab": {
          "base_uri": "https://localhost:8080/",
          "height": 81
        },
        "id": "KnrCGDVuRNUu",
        "outputId": "d6fdcec7-a5d2-4f7e-c9d7-c67ef5d2ae47"
      },
      "outputs": [
        {
          "data": {
            "text/html": [
              "\n",
              "  <div id=\"df-04964197-8713-411f-a4c5-2da21a772ca8\">\n",
              "    <div class=\"colab-df-container\">\n",
              "      <div>\n",
              "<style scoped>\n",
              "    .dataframe tbody tr th:only-of-type {\n",
              "        vertical-align: middle;\n",
              "    }\n",
              "\n",
              "    .dataframe tbody tr th {\n",
              "        vertical-align: top;\n",
              "    }\n",
              "\n",
              "    .dataframe thead th {\n",
              "        text-align: right;\n",
              "    }\n",
              "</style>\n",
              "<table border=\"1\" class=\"dataframe\">\n",
              "  <thead>\n",
              "    <tr style=\"text-align: right;\">\n",
              "      <th></th>\n",
              "      <th>title</th>\n",
              "      <th>link</th>\n",
              "    </tr>\n",
              "    <tr>\n",
              "      <th>Time</th>\n",
              "      <th></th>\n",
              "      <th></th>\n",
              "    </tr>\n",
              "  </thead>\n",
              "  <tbody>\n",
              "  </tbody>\n",
              "</table>\n",
              "</div>\n",
              "      <button class=\"colab-df-convert\" onclick=\"convertToInteractive('df-04964197-8713-411f-a4c5-2da21a772ca8')\"\n",
              "              title=\"Convert this dataframe to an interactive table.\"\n",
              "              style=\"display:none;\">\n",
              "        \n",
              "  <svg xmlns=\"http://www.w3.org/2000/svg\" height=\"24px\"viewBox=\"0 0 24 24\"\n",
              "       width=\"24px\">\n",
              "    <path d=\"M0 0h24v24H0V0z\" fill=\"none\"/>\n",
              "    <path d=\"M18.56 5.44l.94 2.06.94-2.06 2.06-.94-2.06-.94-.94-2.06-.94 2.06-2.06.94zm-11 1L8.5 8.5l.94-2.06 2.06-.94-2.06-.94L8.5 2.5l-.94 2.06-2.06.94zm10 10l.94 2.06.94-2.06 2.06-.94-2.06-.94-.94-2.06-.94 2.06-2.06.94z\"/><path d=\"M17.41 7.96l-1.37-1.37c-.4-.4-.92-.59-1.43-.59-.52 0-1.04.2-1.43.59L10.3 9.45l-7.72 7.72c-.78.78-.78 2.05 0 2.83L4 21.41c.39.39.9.59 1.41.59.51 0 1.02-.2 1.41-.59l7.78-7.78 2.81-2.81c.8-.78.8-2.07 0-2.86zM5.41 20L4 18.59l7.72-7.72 1.47 1.35L5.41 20z\"/>\n",
              "  </svg>\n",
              "      </button>\n",
              "      \n",
              "  <style>\n",
              "    .colab-df-container {\n",
              "      display:flex;\n",
              "      flex-wrap:wrap;\n",
              "      gap: 12px;\n",
              "    }\n",
              "\n",
              "    .colab-df-convert {\n",
              "      background-color: #E8F0FE;\n",
              "      border: none;\n",
              "      border-radius: 50%;\n",
              "      cursor: pointer;\n",
              "      display: none;\n",
              "      fill: #1967D2;\n",
              "      height: 32px;\n",
              "      padding: 0 0 0 0;\n",
              "      width: 32px;\n",
              "    }\n",
              "\n",
              "    .colab-df-convert:hover {\n",
              "      background-color: #E2EBFA;\n",
              "      box-shadow: 0px 1px 2px rgba(60, 64, 67, 0.3), 0px 1px 3px 1px rgba(60, 64, 67, 0.15);\n",
              "      fill: #174EA6;\n",
              "    }\n",
              "\n",
              "    [theme=dark] .colab-df-convert {\n",
              "      background-color: #3B4455;\n",
              "      fill: #D2E3FC;\n",
              "    }\n",
              "\n",
              "    [theme=dark] .colab-df-convert:hover {\n",
              "      background-color: #434B5C;\n",
              "      box-shadow: 0px 1px 3px 1px rgba(0, 0, 0, 0.15);\n",
              "      filter: drop-shadow(0px 1px 2px rgba(0, 0, 0, 0.3));\n",
              "      fill: #FFFFFF;\n",
              "    }\n",
              "  </style>\n",
              "\n",
              "      <script>\n",
              "        const buttonEl =\n",
              "          document.querySelector('#df-04964197-8713-411f-a4c5-2da21a772ca8 button.colab-df-convert');\n",
              "        buttonEl.style.display =\n",
              "          google.colab.kernel.accessAllowed ? 'block' : 'none';\n",
              "\n",
              "        async function convertToInteractive(key) {\n",
              "          const element = document.querySelector('#df-04964197-8713-411f-a4c5-2da21a772ca8');\n",
              "          const dataTable =\n",
              "            await google.colab.kernel.invokeFunction('convertToInteractive',\n",
              "                                                     [key], {});\n",
              "          if (!dataTable) return;\n",
              "\n",
              "          const docLinkHtml = 'Like what you see? Visit the ' +\n",
              "            '<a target=\"_blank\" href=https://colab.research.google.com/notebooks/data_table.ipynb>data table notebook</a>'\n",
              "            + ' to learn more about interactive tables.';\n",
              "          element.innerHTML = '';\n",
              "          dataTable['output_type'] = 'display_data';\n",
              "          await google.colab.output.renderOutput(dataTable, element);\n",
              "          const docLink = document.createElement('div');\n",
              "          docLink.innerHTML = docLinkHtml;\n",
              "          element.appendChild(docLink);\n",
              "        }\n",
              "      </script>\n",
              "    </div>\n",
              "  </div>\n",
              "  "
            ],
            "text/plain": [
              "Empty DataFrame\n",
              "Columns: [title, link]\n",
              "Index: []"
            ]
          },
          "execution_count": 15,
          "metadata": {},
          "output_type": "execute_result"
        }
      ],
      "source": [
        "# Processing missing value\n",
        "missing_df = data[data.datetime.isna()]\n",
        "\n",
        "missing_df.index = [i for i in range(0,len(missing_df))]\n",
        "\n",
        "tran_month = {'an':'Jan',\n",
        "              'eb':'Feb',\n",
        "              'ar':'Mar',\n",
        "              'pr':'Apr',\n",
        "              'ay':'May',\n",
        "              'un':'Jun',\n",
        "              'ul':'Jul',\n",
        "              'ug':'Aug',\n",
        "              'ep':'Sep',\n",
        "              'ct':'Oct',\n",
        "              'ov':'Nov',\n",
        "              'ec':'Dec'}\n",
        "\n",
        "list_date_time = []\n",
        "list_index = []\n",
        "for i in range(0,len(missing_df)):\n",
        "  for key in tran_month:\n",
        "    if key in missing_df.date[i]:\n",
        "      date_time = missing_df.date[i].replace(key,tran_month[key])\n",
        "      list_date_time.append(date_time)\n",
        "      list_index.append(i)\n",
        "\n",
        "missing_df = missing_df.iloc[list_index]\n",
        "missing_df.datetime = list_date_time\n",
        "\n",
        "\n",
        "convert_miss_index = []\n",
        "for i in list_date_time:\n",
        "    convert_miss_index.append(datetime.strptime(i,\"%b %d, %Y\"))\n",
        "    \n",
        "missing_df.index = convert_miss_index\n",
        "\n",
        "missing_df = missing_df.drop(['desc','media','date','datetime','img'],axis= 1)\n",
        "\n",
        "missing_df.index = missing_df.index.set_names('Time')\n",
        "\n",
        "missing_df"
      ]
    },
    {
      "cell_type": "code",
      "execution_count": 20,
      "metadata": {
        "id": "YsE3nalwFZxY"
      },
      "outputs": [],
      "source": [
        "# Xử lý dữ liệu\n",
        "data = data[data.datetime.notna()]\n",
        "\n",
        "time_index = []\n",
        "for i in range(len(data.datetime)):\n",
        "    time_index.append(data.datetime.iloc[i].strftime(\"%m/%d/%Y\"))\n",
        "\n",
        "convert_index = []\n",
        "for i in time_index:\n",
        "    convert_index.append(datetime.strptime(i,\"%m/%d/%Y\"))\n",
        "    \n",
        "data.index = convert_index\n",
        "\n",
        "data = data.drop(['desc','media','date','datetime','img'],axis= 1)\n",
        "\n",
        "data.index = data.index.set_names('Time')\n",
        "\n",
        "data"
      ]
    },
    {
      "cell_type": "code",
      "execution_count": 19,
      "metadata": {
        "id": "Vcf9ez_IxIOh"
      },
      "outputs": [],
      "source": [
        "# Result of crawling data\n",
        "df_concate = pd.concat([data,missing_df])\n",
        "df_concate = df_concate.sort_index()\n",
        "df_concate"
      ]
    },
    {
      "cell_type": "code",
      "execution_count": 18,
      "metadata": {
        "id": "yxBbrWIqY6yY"
      },
      "outputs": [],
      "source": [
        "#### Export data\n",
        "\n",
        "# df_concate.to_excel('year_2017_full.xlsx')\n",
        "# df_concate.to_excel('year_2018_full.xlsx')\n",
        "# df_concate.to_excel('year_2019_full.xlsx')\n",
        "# df_concate.to_excel('year_20120_full.xlsx')\n",
        "# df_concate.to_excel('year_2021_full.xlsx')\n",
        "# df_concate.to_excel('year_2022_to_May_full.xlsx')"
      ]
    }
  ],
  "metadata": {
    "colab": {
      "collapsed_sections": [],
      "name": "Crawl_ETH.ipynb",
      "provenance": []
    },
    "interpreter": {
      "hash": "14958d3aee5f1cad06795f787e54b96185c25fb40dfec723a5be941f3a531b8c"
    },
    "kernelspec": {
      "display_name": "Python 3.9.1 64-bit",
      "language": "python",
      "name": "python3"
    },
    "language_info": {
      "codemirror_mode": {
        "name": "ipython",
        "version": 3
      },
      "file_extension": ".py",
      "mimetype": "text/x-python",
      "name": "python",
      "nbconvert_exporter": "python",
      "pygments_lexer": "ipython3",
      "version": "3.9.1"
    }
  },
  "nbformat": 4,
  "nbformat_minor": 0
}
